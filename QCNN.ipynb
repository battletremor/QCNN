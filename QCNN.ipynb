{
  "cells": [
    {
      "cell_type": "code",
      "execution_count": null,
      "metadata": {
        "colab": {
          "base_uri": "https://localhost:8080/"
        },
        "id": "Fl1BtonUc3xe",
        "outputId": "29063f7a-90a0-46db-b40e-58ab3fde0a1d"
      },
      "outputs": [
        {
          "output_type": "stream",
          "name": "stdout",
          "text": [
            "Requirement already satisfied: pennylane in /usr/local/lib/python3.7/dist-packages (0.22.2)\n",
            "Requirement already satisfied: autograd in /usr/local/lib/python3.7/dist-packages (from pennylane) (1.3)\n",
            "Requirement already satisfied: appdirs in /usr/local/lib/python3.7/dist-packages (from pennylane) (1.4.4)\n",
            "Requirement already satisfied: scipy in /usr/local/lib/python3.7/dist-packages (from pennylane) (1.4.1)\n",
            "Requirement already satisfied: numpy in /usr/local/lib/python3.7/dist-packages (from pennylane) (1.21.5)\n",
            "Requirement already satisfied: cachetools in /usr/local/lib/python3.7/dist-packages (from pennylane) (4.2.4)\n",
            "Requirement already satisfied: pennylane-lightning>=0.22 in /usr/local/lib/python3.7/dist-packages (from pennylane) (0.22.1)\n",
            "Requirement already satisfied: retworkx in /usr/local/lib/python3.7/dist-packages (from pennylane) (0.11.0)\n",
            "Requirement already satisfied: autoray in /usr/local/lib/python3.7/dist-packages (from pennylane) (0.2.5)\n",
            "Requirement already satisfied: toml in /usr/local/lib/python3.7/dist-packages (from pennylane) (0.10.2)\n",
            "Requirement already satisfied: networkx in /usr/local/lib/python3.7/dist-packages (from pennylane) (2.6.3)\n",
            "Requirement already satisfied: semantic-version==2.6 in /usr/local/lib/python3.7/dist-packages (from pennylane) (2.6.0)\n",
            "Requirement already satisfied: ninja in /usr/local/lib/python3.7/dist-packages (from pennylane-lightning>=0.22->pennylane) (1.10.2.3)\n",
            "Requirement already satisfied: future>=0.15.2 in /usr/local/lib/python3.7/dist-packages (from autograd->pennylane) (0.16.0)\n"
          ]
        }
      ],
      "source": [
        "!pip install pennylane --upgrade\n"
      ]
    },
    {
      "cell_type": "code",
      "execution_count": null,
      "metadata": {
        "colab": {
          "base_uri": "https://localhost:8080/"
        },
        "id": "VDdvoGS0dV2P",
        "outputId": "fe6f7c0b-09b5-4a75-8194-b579ef818648"
      },
      "outputs": [
        {
          "output_type": "stream",
          "name": "stdout",
          "text": [
            "Requirement already satisfied: tensorflow>=1.13.2 in /usr/local/lib/python3.7/dist-packages (2.8.0)\n",
            "Requirement already satisfied: keras<2.9,>=2.8.0rc0 in /usr/local/lib/python3.7/dist-packages (from tensorflow>=1.13.2) (2.8.0)\n",
            "Requirement already satisfied: libclang>=9.0.1 in /usr/local/lib/python3.7/dist-packages (from tensorflow>=1.13.2) (13.0.0)\n",
            "Requirement already satisfied: gast>=0.2.1 in /usr/local/lib/python3.7/dist-packages (from tensorflow>=1.13.2) (0.5.3)\n",
            "Collecting tf-estimator-nightly==2.8.0.dev2021122109\n",
            "  Downloading tf_estimator_nightly-2.8.0.dev2021122109-py2.py3-none-any.whl (462 kB)\n",
            "\u001b[K     |████████████████████████████████| 462 kB 5.1 MB/s \n",
            "\u001b[?25hRequirement already satisfied: flatbuffers>=1.12 in /usr/local/lib/python3.7/dist-packages (from tensorflow>=1.13.2) (2.0)\n",
            "Requirement already satisfied: typing-extensions>=3.6.6 in /usr/local/lib/python3.7/dist-packages (from tensorflow>=1.13.2) (3.10.0.0)\n",
            "Requirement already satisfied: protobuf>=3.9.2 in /usr/local/lib/python3.7/dist-packages (from tensorflow>=1.13.2) (3.17.3)\n",
            "Requirement already satisfied: setuptools in /usr/local/lib/python3.7/dist-packages (from tensorflow>=1.13.2) (57.4.0)\n",
            "Requirement already satisfied: astunparse>=1.6.0 in /usr/local/lib/python3.7/dist-packages (from tensorflow>=1.13.2) (1.6.3)\n",
            "Requirement already satisfied: numpy>=1.20 in /usr/local/lib/python3.7/dist-packages (from tensorflow>=1.13.2) (1.21.5)\n",
            "Requirement already satisfied: google-pasta>=0.1.1 in /usr/local/lib/python3.7/dist-packages (from tensorflow>=1.13.2) (0.2.0)\n",
            "Requirement already satisfied: h5py>=2.9.0 in /usr/local/lib/python3.7/dist-packages (from tensorflow>=1.13.2) (3.1.0)\n",
            "Requirement already satisfied: absl-py>=0.4.0 in /usr/local/lib/python3.7/dist-packages (from tensorflow>=1.13.2) (1.0.0)\n",
            "Requirement already satisfied: wrapt>=1.11.0 in /usr/local/lib/python3.7/dist-packages (from tensorflow>=1.13.2) (1.14.0)\n",
            "Requirement already satisfied: keras-preprocessing>=1.1.1 in /usr/local/lib/python3.7/dist-packages (from tensorflow>=1.13.2) (1.1.2)\n",
            "Requirement already satisfied: grpcio<2.0,>=1.24.3 in /usr/local/lib/python3.7/dist-packages (from tensorflow>=1.13.2) (1.44.0)\n",
            "Requirement already satisfied: opt-einsum>=2.3.2 in /usr/local/lib/python3.7/dist-packages (from tensorflow>=1.13.2) (3.3.0)\n",
            "Requirement already satisfied: tensorflow-io-gcs-filesystem>=0.23.1 in /usr/local/lib/python3.7/dist-packages (from tensorflow>=1.13.2) (0.24.0)\n",
            "Requirement already satisfied: termcolor>=1.1.0 in /usr/local/lib/python3.7/dist-packages (from tensorflow>=1.13.2) (1.1.0)\n",
            "Requirement already satisfied: six>=1.12.0 in /usr/local/lib/python3.7/dist-packages (from tensorflow>=1.13.2) (1.15.0)\n",
            "Requirement already satisfied: tensorboard<2.9,>=2.8 in /usr/local/lib/python3.7/dist-packages (from tensorflow>=1.13.2) (2.8.0)\n",
            "Requirement already satisfied: wheel<1.0,>=0.23.0 in /usr/local/lib/python3.7/dist-packages (from astunparse>=1.6.0->tensorflow>=1.13.2) (0.37.1)\n",
            "Requirement already satisfied: cached-property in /usr/local/lib/python3.7/dist-packages (from h5py>=2.9.0->tensorflow>=1.13.2) (1.5.2)\n",
            "Requirement already satisfied: google-auth-oauthlib<0.5,>=0.4.1 in /usr/local/lib/python3.7/dist-packages (from tensorboard<2.9,>=2.8->tensorflow>=1.13.2) (0.4.6)\n",
            "Requirement already satisfied: requests<3,>=2.21.0 in /usr/local/lib/python3.7/dist-packages (from tensorboard<2.9,>=2.8->tensorflow>=1.13.2) (2.23.0)\n",
            "Requirement already satisfied: tensorboard-plugin-wit>=1.6.0 in /usr/local/lib/python3.7/dist-packages (from tensorboard<2.9,>=2.8->tensorflow>=1.13.2) (1.8.1)\n",
            "Requirement already satisfied: markdown>=2.6.8 in /usr/local/lib/python3.7/dist-packages (from tensorboard<2.9,>=2.8->tensorflow>=1.13.2) (3.3.6)\n",
            "Requirement already satisfied: tensorboard-data-server<0.7.0,>=0.6.0 in /usr/local/lib/python3.7/dist-packages (from tensorboard<2.9,>=2.8->tensorflow>=1.13.2) (0.6.1)\n",
            "Requirement already satisfied: google-auth<3,>=1.6.3 in /usr/local/lib/python3.7/dist-packages (from tensorboard<2.9,>=2.8->tensorflow>=1.13.2) (1.35.0)\n",
            "Requirement already satisfied: werkzeug>=0.11.15 in /usr/local/lib/python3.7/dist-packages (from tensorboard<2.9,>=2.8->tensorflow>=1.13.2) (1.0.1)\n",
            "Requirement already satisfied: cachetools<5.0,>=2.0.0 in /usr/local/lib/python3.7/dist-packages (from google-auth<3,>=1.6.3->tensorboard<2.9,>=2.8->tensorflow>=1.13.2) (4.2.4)\n",
            "Requirement already satisfied: rsa<5,>=3.1.4 in /usr/local/lib/python3.7/dist-packages (from google-auth<3,>=1.6.3->tensorboard<2.9,>=2.8->tensorflow>=1.13.2) (4.8)\n",
            "Requirement already satisfied: pyasn1-modules>=0.2.1 in /usr/local/lib/python3.7/dist-packages (from google-auth<3,>=1.6.3->tensorboard<2.9,>=2.8->tensorflow>=1.13.2) (0.2.8)\n",
            "Requirement already satisfied: requests-oauthlib>=0.7.0 in /usr/local/lib/python3.7/dist-packages (from google-auth-oauthlib<0.5,>=0.4.1->tensorboard<2.9,>=2.8->tensorflow>=1.13.2) (1.3.1)\n",
            "Requirement already satisfied: importlib-metadata>=4.4 in /usr/local/lib/python3.7/dist-packages (from markdown>=2.6.8->tensorboard<2.9,>=2.8->tensorflow>=1.13.2) (4.11.3)\n",
            "Requirement already satisfied: zipp>=0.5 in /usr/local/lib/python3.7/dist-packages (from importlib-metadata>=4.4->markdown>=2.6.8->tensorboard<2.9,>=2.8->tensorflow>=1.13.2) (3.7.0)\n",
            "Requirement already satisfied: pyasn1<0.5.0,>=0.4.6 in /usr/local/lib/python3.7/dist-packages (from pyasn1-modules>=0.2.1->google-auth<3,>=1.6.3->tensorboard<2.9,>=2.8->tensorflow>=1.13.2) (0.4.8)\n",
            "Requirement already satisfied: idna<3,>=2.5 in /usr/local/lib/python3.7/dist-packages (from requests<3,>=2.21.0->tensorboard<2.9,>=2.8->tensorflow>=1.13.2) (2.10)\n",
            "Requirement already satisfied: urllib3!=1.25.0,!=1.25.1,<1.26,>=1.21.1 in /usr/local/lib/python3.7/dist-packages (from requests<3,>=2.21.0->tensorboard<2.9,>=2.8->tensorflow>=1.13.2) (1.24.3)\n",
            "Requirement already satisfied: chardet<4,>=3.0.2 in /usr/local/lib/python3.7/dist-packages (from requests<3,>=2.21.0->tensorboard<2.9,>=2.8->tensorflow>=1.13.2) (3.0.4)\n",
            "Requirement already satisfied: certifi>=2017.4.17 in /usr/local/lib/python3.7/dist-packages (from requests<3,>=2.21.0->tensorboard<2.9,>=2.8->tensorflow>=1.13.2) (2021.10.8)\n",
            "Requirement already satisfied: oauthlib>=3.0.0 in /usr/local/lib/python3.7/dist-packages (from requests-oauthlib>=0.7.0->google-auth-oauthlib<0.5,>=0.4.1->tensorboard<2.9,>=2.8->tensorflow>=1.13.2) (3.2.0)\n",
            "Installing collected packages: tf-estimator-nightly\n",
            "Successfully installed tf-estimator-nightly-2.8.0.dev2021122109\n"
          ]
        }
      ],
      "source": [
        "!pip install \"tensorflow>=1.13.2\""
      ]
    },
    {
      "cell_type": "code",
      "execution_count": null,
      "metadata": {
        "colab": {
          "base_uri": "https://localhost:8080/"
        },
        "id": "cf3tFaSCdbXr",
        "outputId": "0293b6d8-0c76-4498-c1e5-d2972eec9288"
      },
      "outputs": [
        {
          "output_type": "stream",
          "name": "stdout",
          "text": [
            "Collecting pennylane-cirq\n",
            "  Downloading PennyLane_Cirq-0.22.0-py3-none-any.whl (22 kB)\n",
            "Collecting cirq-core>=0.10\n",
            "  Downloading cirq_core-0.14.0-py3-none-any.whl (1.8 MB)\n",
            "\u001b[K     |████████████████████████████████| 1.8 MB 7.0 MB/s \n",
            "\u001b[?25hCollecting pennylane>=0.17\n",
            "  Downloading PennyLane-0.22.2-py3-none-any.whl (880 kB)\n",
            "\u001b[K     |████████████████████████████████| 880 kB 40.8 MB/s \n",
            "\u001b[?25hCollecting cirq-pasqal>=0.10\n",
            "  Downloading cirq_pasqal-0.14.0-py3-none-any.whl (30 kB)\n",
            "Collecting duet~=0.2.0\n",
            "  Downloading duet-0.2.5-py3-none-any.whl (28 kB)\n",
            "Requirement already satisfied: scipy in /usr/local/lib/python3.7/dist-packages (from cirq-core>=0.10->pennylane-cirq) (1.4.1)\n",
            "Collecting backports.cached-property~=1.0.1\n",
            "  Downloading backports.cached_property-1.0.1-py3-none-any.whl (5.7 kB)\n",
            "Requirement already satisfied: matplotlib~=3.0 in /usr/local/lib/python3.7/dist-packages (from cirq-core>=0.10->pennylane-cirq) (3.2.2)\n",
            "Requirement already satisfied: typing-extensions in /usr/local/lib/python3.7/dist-packages (from cirq-core>=0.10->pennylane-cirq) (3.10.0.2)\n",
            "Requirement already satisfied: sympy<1.10 in /usr/local/lib/python3.7/dist-packages (from cirq-core>=0.10->pennylane-cirq) (1.7.1)\n",
            "Requirement already satisfied: pandas in /usr/local/lib/python3.7/dist-packages (from cirq-core>=0.10->pennylane-cirq) (1.3.5)\n",
            "Requirement already satisfied: networkx~=2.4 in /usr/local/lib/python3.7/dist-packages (from cirq-core>=0.10->pennylane-cirq) (2.6.3)\n",
            "Requirement already satisfied: numpy~=1.16 in /usr/local/lib/python3.7/dist-packages (from cirq-core>=0.10->pennylane-cirq) (1.21.5)\n",
            "Requirement already satisfied: sortedcontainers~=2.0 in /usr/local/lib/python3.7/dist-packages (from cirq-core>=0.10->pennylane-cirq) (2.4.0)\n",
            "Requirement already satisfied: tqdm in /usr/local/lib/python3.7/dist-packages (from cirq-core>=0.10->pennylane-cirq) (4.63.0)\n",
            "Requirement already satisfied: requests~=2.18 in /usr/local/lib/python3.7/dist-packages (from cirq-pasqal>=0.10->pennylane-cirq) (2.23.0)\n",
            "Collecting typing-extensions\n",
            "  Downloading typing_extensions-3.10.0.0-py3-none-any.whl (26 kB)\n",
            "Requirement already satisfied: cycler>=0.10 in /usr/local/lib/python3.7/dist-packages (from matplotlib~=3.0->cirq-core>=0.10->pennylane-cirq) (0.11.0)\n",
            "Requirement already satisfied: python-dateutil>=2.1 in /usr/local/lib/python3.7/dist-packages (from matplotlib~=3.0->cirq-core>=0.10->pennylane-cirq) (2.8.2)\n",
            "Requirement already satisfied: pyparsing!=2.0.4,!=2.1.2,!=2.1.6,>=2.0.1 in /usr/local/lib/python3.7/dist-packages (from matplotlib~=3.0->cirq-core>=0.10->pennylane-cirq) (3.0.7)\n",
            "Requirement already satisfied: kiwisolver>=1.0.1 in /usr/local/lib/python3.7/dist-packages (from matplotlib~=3.0->cirq-core>=0.10->pennylane-cirq) (1.4.0)\n",
            "Collecting toml\n",
            "  Downloading toml-0.10.2-py2.py3-none-any.whl (16 kB)\n",
            "Requirement already satisfied: appdirs in /usr/local/lib/python3.7/dist-packages (from pennylane>=0.17->pennylane-cirq) (1.4.4)\n",
            "Collecting pennylane-lightning>=0.22\n",
            "  Downloading PennyLane_Lightning-0.22.1-cp37-cp37m-manylinux_2_17_x86_64.manylinux2014_x86_64.whl (8.5 MB)\n",
            "\u001b[K     |████████████████████████████████| 8.5 MB 20.1 MB/s \n",
            "\u001b[?25hCollecting retworkx\n",
            "  Downloading retworkx-0.11.0-cp37-cp37m-manylinux_2_5_x86_64.manylinux1_x86_64.manylinux_2_12_x86_64.manylinux2010_x86_64.whl (1.6 MB)\n",
            "\u001b[K     |████████████████████████████████| 1.6 MB 38.5 MB/s \n",
            "\u001b[?25hCollecting autoray\n",
            "  Downloading autoray-0.2.5-py3-none-any.whl (16 kB)\n",
            "Requirement already satisfied: cachetools in /usr/local/lib/python3.7/dist-packages (from pennylane>=0.17->pennylane-cirq) (4.2.4)\n",
            "Requirement already satisfied: autograd in /usr/local/lib/python3.7/dist-packages (from pennylane>=0.17->pennylane-cirq) (1.3)\n",
            "Collecting semantic-version==2.6\n",
            "  Downloading semantic_version-2.6.0-py3-none-any.whl (14 kB)\n",
            "Collecting ninja\n",
            "  Downloading ninja-1.10.2.3-py2.py3-none-manylinux_2_5_x86_64.manylinux1_x86_64.whl (108 kB)\n",
            "\u001b[K     |████████████████████████████████| 108 kB 59.1 MB/s \n",
            "\u001b[?25hRequirement already satisfied: six>=1.5 in /usr/local/lib/python3.7/dist-packages (from python-dateutil>=2.1->matplotlib~=3.0->cirq-core>=0.10->pennylane-cirq) (1.15.0)\n",
            "Requirement already satisfied: urllib3!=1.25.0,!=1.25.1,<1.26,>=1.21.1 in /usr/local/lib/python3.7/dist-packages (from requests~=2.18->cirq-pasqal>=0.10->pennylane-cirq) (1.24.3)\n",
            "Requirement already satisfied: idna<3,>=2.5 in /usr/local/lib/python3.7/dist-packages (from requests~=2.18->cirq-pasqal>=0.10->pennylane-cirq) (2.10)\n",
            "Requirement already satisfied: chardet<4,>=3.0.2 in /usr/local/lib/python3.7/dist-packages (from requests~=2.18->cirq-pasqal>=0.10->pennylane-cirq) (3.0.4)\n",
            "Requirement already satisfied: certifi>=2017.4.17 in /usr/local/lib/python3.7/dist-packages (from requests~=2.18->cirq-pasqal>=0.10->pennylane-cirq) (2021.10.8)\n",
            "Requirement already satisfied: mpmath>=0.19 in /usr/local/lib/python3.7/dist-packages (from sympy<1.10->cirq-core>=0.10->pennylane-cirq) (1.2.1)\n",
            "Requirement already satisfied: future>=0.15.2 in /usr/local/lib/python3.7/dist-packages (from autograd->pennylane>=0.17->pennylane-cirq) (0.16.0)\n",
            "Requirement already satisfied: pytz>=2017.3 in /usr/local/lib/python3.7/dist-packages (from pandas->cirq-core>=0.10->pennylane-cirq) (2018.9)\n",
            "Installing collected packages: typing-extensions, ninja, duet, backports.cached-property, toml, semantic-version, retworkx, pennylane-lightning, cirq-core, autoray, pennylane, cirq-pasqal, pennylane-cirq\n",
            "  Attempting uninstall: typing-extensions\n",
            "    Found existing installation: typing-extensions 3.10.0.2\n",
            "    Uninstalling typing-extensions-3.10.0.2:\n",
            "      Successfully uninstalled typing-extensions-3.10.0.2\n",
            "\u001b[31mERROR: pip's dependency resolver does not currently take into account all the packages that are installed. This behaviour is the source of the following dependency conflicts.\n",
            "tensorflow 2.8.0 requires tf-estimator-nightly==2.8.0.dev2021122109, which is not installed.\u001b[0m\n",
            "Successfully installed autoray-0.2.5 backports.cached-property-1.0.1 cirq-core-0.14.0 cirq-pasqal-0.14.0 duet-0.2.5 ninja-1.10.2.3 pennylane-0.22.2 pennylane-cirq-0.22.0 pennylane-lightning-0.22.1 retworkx-0.11.0 semantic-version-2.6.0 toml-0.10.2 typing-extensions-3.10.0.0\n"
          ]
        }
      ],
      "source": [
        "!pip install pennylane-cirq\n"
      ]
    },
    {
      "cell_type": "code",
      "execution_count": null,
      "metadata": {
        "id": "jJxj-kHngBeF"
      },
      "outputs": [],
      "source": [
        ""
      ]
    },
    {
      "cell_type": "code",
      "execution_count": null,
      "metadata": {
        "id": "CAk3Q1F2dgwo"
      },
      "outputs": [],
      "source": [
        "import pennylane as qml\n",
        "from pennylane import numpy as np\n",
        "from pennylane.templates import RandomLayers\n",
        "import tensorflow as tf\n",
        "from tensorflow import keras\n",
        "import matplotlib.pyplot as plt"
      ]
    },
    {
      "cell_type": "code",
      "execution_count": null,
      "metadata": {
        "id": "ZUkios7ednhb"
      },
      "outputs": [],
      "source": [
        "n_epochs = 30   # Number of optimization epochs\n",
        "n_layers = 1    # Number of random layers\n",
        "n_train = 40    # Size of the train dataset\n",
        "n_test = 30    # Size of the test dataset\n",
        "\n",
        "SAVE_PATH = \"/content/drive/MyDrive/quanvolution/\" # Data saving folder\n",
        "PREPROCESS = True           # If False, skip quantum processing and load data from SAVE_PATH\n",
        "np.random.seed(0)           # Seed for NumPy random number generator\n",
        "tf.random.set_seed(0)       # Seed for TensorFlow random number generator"
      ]
    },
    {
      "cell_type": "code",
      "execution_count": null,
      "metadata": {
        "id": "XPG1C2-1d4GT",
        "colab": {
          "base_uri": "https://localhost:8080/"
        },
        "outputId": "2df5cd8c-986c-4206-9007-3828a3aa4523"
      },
      "outputs": [
        {
          "output_type": "stream",
          "name": "stdout",
          "text": [
            "Downloading data from https://storage.googleapis.com/tensorflow/tf-keras-datasets/mnist.npz\n",
            "11493376/11490434 [==============================] - 0s 0us/step\n",
            "11501568/11490434 [==============================] - 0s 0us/step\n"
          ]
        }
      ],
      "source": [
        "mnist_dataset = keras.datasets.mnist\n",
        "(train_images, train_labels), (test_images, test_labels) = mnist_dataset.load_data()\n",
        "\n",
        "# Reduce dataset size\n",
        "train_images = train_images[:n_train]\n",
        "train_labels = train_labels[:n_train]\n",
        "test_images = test_images[:n_test]\n",
        "test_labels = test_labels[:n_test]\n",
        "\n",
        "# Normalize pixel values within 0 and 1\n",
        "train_images = train_images / 255\n",
        "test_images = test_images / 255\n",
        "\n",
        "# Add extra dimension for convolution channels\n",
        "train_images = np.array(train_images[..., tf.newaxis], requires_grad=False)\n",
        "test_images = np.array(test_images[..., tf.newaxis], requires_grad=False)"
      ]
    },
    {
      "cell_type": "code",
      "execution_count": null,
      "metadata": {
        "id": "HzIAdf8deVSe"
      },
      "outputs": [],
      "source": [
        "dev = qml.device(\"default.qubit\", wires=4)\n",
        "# Random circuit parameters\n",
        "rand_params = np.random.uniform(high=2 * np.pi, size=(n_layers, 4))\n",
        "nahfhe\n",
        "@qml.qnode(dev)\n",
        "def circuit(phi):\n",
        "    # Encoding of 4 classical input values\n",
        "    for j in range(4):\n",
        "        qml.RY(np.pi * phi[j], wires=j)\n",
        "\n",
        "    # Random quantum circuit\n",
        "    RandomLayers(rand_params, wires=list(range(4)))\n",
        "\n",
        "    # Measurement producing 4 classical output values\n",
        "    return [qml.expval(qml.PauliZ(j)) for j in range(4)]"
      ]
    },
    {
      "cell_type": "code",
      "execution_count": null,
      "metadata": {
        "id": "j-nIJH66fUDz"
      },
      "outputs": [],
      "source": [
        "def quanv(image):\n",
        "    \"\"\"Convolves the input image with many applications of the same quantum circuit.\"\"\"\n",
        "    out = np.zeros((14, 14, 4))\n",
        "    stride = 2\n",
        "\n",
        "    # Loop over the coordinates of the top-left pixel of 2X2 squares\n",
        "    for j in range(0, 28, stride):\n",
        "        for k in range(0, 28, stride):\n",
        "            # Process a squared 2x2 region of the image with a quantum circuit\n",
        "            q_results = circuit(\n",
        "                [\n",
        "                    image[j, k, 0],\n",
        "                    image[j, k + 1, 0],\n",
        "                    image[j + 1, k, 0],\n",
        "                    image[j + 1, k + 1, 0]\n",
        "                ]\n",
        "            )\n",
        "            # Assign expectation values to different channels of the output pixel (j/2, k/2)\n",
        "            for c in range(4):\n",
        "                out[j // 2, k // 2, c] = q_results[c]\n",
        "    return out\n"
      ]
    },
    {
      "cell_type": "code",
      "execution_count": null,
      "metadata": {
        "colab": {
          "base_uri": "https://localhost:8080/",
          "height": 456
        },
        "id": "0-6BEP5hfXl4",
        "outputId": "523c084b-33d4-439e-eeaf-74a36a49e34d"
      },
      "outputs": [
        {
          "output_type": "stream",
          "name": "stdout",
          "text": [
            "Quantum pre-processing of train images:\n",
            "1/40        \r"
          ]
        },
        {
          "output_type": "error",
          "ename": "IndexError",
          "evalue": "ignored",
          "traceback": [
            "\u001b[0;31m---------------------------------------------------------------------------\u001b[0m",
            "\u001b[0;31mIndexError\u001b[0m                                Traceback (most recent call last)",
            "\u001b[0;32m<ipython-input-27-96934ba94c6a>\u001b[0m in \u001b[0;36m<module>\u001b[0;34m()\u001b[0m\n\u001b[1;32m      4\u001b[0m     \u001b[0;32mfor\u001b[0m \u001b[0midx\u001b[0m\u001b[0;34m,\u001b[0m \u001b[0mimg\u001b[0m \u001b[0;32min\u001b[0m \u001b[0menumerate\u001b[0m\u001b[0;34m(\u001b[0m\u001b[0mtrain_images\u001b[0m\u001b[0;34m)\u001b[0m\u001b[0;34m:\u001b[0m\u001b[0;34m\u001b[0m\u001b[0;34m\u001b[0m\u001b[0m\n\u001b[1;32m      5\u001b[0m         \u001b[0mprint\u001b[0m\u001b[0;34m(\u001b[0m\u001b[0;34m\"{}/{}        \"\u001b[0m\u001b[0;34m.\u001b[0m\u001b[0mformat\u001b[0m\u001b[0;34m(\u001b[0m\u001b[0midx\u001b[0m \u001b[0;34m+\u001b[0m \u001b[0;36m1\u001b[0m\u001b[0;34m,\u001b[0m \u001b[0mn_train\u001b[0m\u001b[0;34m)\u001b[0m\u001b[0;34m,\u001b[0m \u001b[0mend\u001b[0m\u001b[0;34m=\u001b[0m\u001b[0;34m\"\\r\"\u001b[0m\u001b[0;34m)\u001b[0m\u001b[0;34m\u001b[0m\u001b[0;34m\u001b[0m\u001b[0m\n\u001b[0;32m----> 6\u001b[0;31m         \u001b[0mq_train_images\u001b[0m\u001b[0;34m.\u001b[0m\u001b[0mappend\u001b[0m\u001b[0;34m(\u001b[0m\u001b[0mquanv\u001b[0m\u001b[0;34m(\u001b[0m\u001b[0mimg\u001b[0m\u001b[0;34m)\u001b[0m\u001b[0;34m)\u001b[0m\u001b[0;34m\u001b[0m\u001b[0;34m\u001b[0m\u001b[0m\n\u001b[0m\u001b[1;32m      7\u001b[0m     \u001b[0mq_train_images\u001b[0m \u001b[0;34m=\u001b[0m \u001b[0mnp\u001b[0m\u001b[0;34m.\u001b[0m\u001b[0masarray\u001b[0m\u001b[0;34m(\u001b[0m\u001b[0mq_train_images\u001b[0m\u001b[0;34m)\u001b[0m\u001b[0;34m\u001b[0m\u001b[0;34m\u001b[0m\u001b[0m\n\u001b[1;32m      8\u001b[0m \u001b[0;34m\u001b[0m\u001b[0m\n",
            "\u001b[0;32m<ipython-input-26-8b018add35b8>\u001b[0m in \u001b[0;36mquanv\u001b[0;34m(image)\u001b[0m\n\u001b[1;32m     11\u001b[0m                 [\n\u001b[1;32m     12\u001b[0m                     \u001b[0mimage\u001b[0m\u001b[0;34m[\u001b[0m\u001b[0mj\u001b[0m\u001b[0;34m,\u001b[0m \u001b[0mk\u001b[0m\u001b[0;34m,\u001b[0m \u001b[0;36m0\u001b[0m\u001b[0;34m]\u001b[0m\u001b[0;34m,\u001b[0m\u001b[0;34m\u001b[0m\u001b[0;34m\u001b[0m\u001b[0m\n\u001b[0;32m---> 13\u001b[0;31m                     \u001b[0mimage\u001b[0m\u001b[0;34m[\u001b[0m\u001b[0mj\u001b[0m\u001b[0;34m,\u001b[0m \u001b[0mk\u001b[0m \u001b[0;34m+\u001b[0m \u001b[0;36m1\u001b[0m\u001b[0;34m,\u001b[0m \u001b[0;36m0\u001b[0m\u001b[0;34m]\u001b[0m\u001b[0;34m,\u001b[0m\u001b[0;34m\u001b[0m\u001b[0;34m\u001b[0m\u001b[0m\n\u001b[0m\u001b[1;32m     14\u001b[0m                     \u001b[0mimage\u001b[0m\u001b[0;34m[\u001b[0m\u001b[0mj\u001b[0m \u001b[0;34m+\u001b[0m \u001b[0;36m1\u001b[0m\u001b[0;34m,\u001b[0m \u001b[0mk\u001b[0m\u001b[0;34m,\u001b[0m \u001b[0;36m0\u001b[0m\u001b[0;34m]\u001b[0m\u001b[0;34m,\u001b[0m\u001b[0;34m\u001b[0m\u001b[0;34m\u001b[0m\u001b[0m\n\u001b[1;32m     15\u001b[0m                     \u001b[0mimage\u001b[0m\u001b[0;34m[\u001b[0m\u001b[0mj\u001b[0m \u001b[0;34m+\u001b[0m \u001b[0;36m1\u001b[0m\u001b[0;34m,\u001b[0m \u001b[0mk\u001b[0m \u001b[0;34m+\u001b[0m \u001b[0;36m1\u001b[0m\u001b[0;34m,\u001b[0m \u001b[0;36m0\u001b[0m\u001b[0;34m]\u001b[0m\u001b[0;34m\u001b[0m\u001b[0;34m\u001b[0m\u001b[0m\n",
            "\u001b[0;32m/usr/local/lib/python3.7/dist-packages/pennylane/numpy/tensor.py\u001b[0m in \u001b[0;36m__getitem__\u001b[0;34m(self, *args, **kwargs)\u001b[0m\n\u001b[1;32m    182\u001b[0m \u001b[0;34m\u001b[0m\u001b[0m\n\u001b[1;32m    183\u001b[0m     \u001b[0;32mdef\u001b[0m \u001b[0m__getitem__\u001b[0m\u001b[0;34m(\u001b[0m\u001b[0mself\u001b[0m\u001b[0;34m,\u001b[0m \u001b[0;34m*\u001b[0m\u001b[0margs\u001b[0m\u001b[0;34m,\u001b[0m \u001b[0;34m**\u001b[0m\u001b[0mkwargs\u001b[0m\u001b[0;34m)\u001b[0m\u001b[0;34m:\u001b[0m\u001b[0;34m\u001b[0m\u001b[0;34m\u001b[0m\u001b[0m\n\u001b[0;32m--> 184\u001b[0;31m         \u001b[0mitem\u001b[0m \u001b[0;34m=\u001b[0m \u001b[0msuper\u001b[0m\u001b[0;34m(\u001b[0m\u001b[0;34m)\u001b[0m\u001b[0;34m.\u001b[0m\u001b[0m__getitem__\u001b[0m\u001b[0;34m(\u001b[0m\u001b[0;34m*\u001b[0m\u001b[0margs\u001b[0m\u001b[0;34m,\u001b[0m \u001b[0;34m**\u001b[0m\u001b[0mkwargs\u001b[0m\u001b[0;34m)\u001b[0m\u001b[0;34m\u001b[0m\u001b[0;34m\u001b[0m\u001b[0m\n\u001b[0m\u001b[1;32m    185\u001b[0m \u001b[0;34m\u001b[0m\u001b[0m\n\u001b[1;32m    186\u001b[0m         \u001b[0;32mif\u001b[0m \u001b[0;32mnot\u001b[0m \u001b[0misinstance\u001b[0m\u001b[0;34m(\u001b[0m\u001b[0mitem\u001b[0m\u001b[0;34m,\u001b[0m \u001b[0mtensor\u001b[0m\u001b[0;34m)\u001b[0m\u001b[0;34m:\u001b[0m\u001b[0;34m\u001b[0m\u001b[0;34m\u001b[0m\u001b[0m\n",
            "\u001b[0;31mIndexError\u001b[0m: index 28 is out of bounds for axis 1 with size 28"
          ]
        }
      ],
      "source": [
        "if PREPROCESS == True:\n",
        "    q_train_images = []\n",
        "    print(\"Quantum pre-processing of train images:\")\n",
        "    for idx, img in enumerate(train_images):\n",
        "        print(\"{}/{}        \".format(idx + 1, n_train), end=\"\\r\")\n",
        "        q_train_images.append(quanv(img))\n",
        "    q_train_images = np.asarray(q_train_images)\n",
        "\n",
        "    q_test_images = []\n",
        "    print(\"\\nQuantum pre-processing of test images:\")\n",
        "    for idx, img in enumerate(test_images):\n",
        "        print(\"{}/{}        \".format(idx + 1, n_test), end=\"\\r\")\n",
        "        q_test_images.append(quanv(img))\n",
        "    q_test_images = np.asarray(q_test_images)\n",
        "\n",
        "    # Save pre-processed images\n",
        "    np.save(SAVE_PATH + \"q_train_images.npy\", q_train_images)\n",
        "    np.save(SAVE_PATH + \"q_test_images.npy\", q_test_images)\n",
        "\n",
        "\n",
        "#Load pre-processed images\n",
        "q_train_images = np.load(SAVE_PATH + \"q_train_images.npy\")\n",
        "q_test_images = np.load(SAVE_PATH + \"q_test_images.npy\")"
      ]
    },
    {
      "cell_type": "code",
      "execution_count": null,
      "metadata": {
        "colab": {
          "base_uri": "https://localhost:8080/",
          "height": 729
        },
        "id": "9GDylK4_mtCc",
        "outputId": "01a54fc8-94bf-433a-a89d-9e9a6ea1bb9a"
      },
      "outputs": [
        {
          "output_type": "display_data",
          "data": {
            "text/plain": [
              "<Figure size 720x720 with 20 Axes>"
            ],
            "image/png": "[encoded data removed]"
          },
          "metadata": {
            "needs_background": "light"
          }
        }
      ],
      "source": [
        "n_samples = 4\n",
        "n_channels = 4\n",
        "fig, axes = plt.subplots(1 + n_channels, n_samples, figsize=(10, 10))\n",
        "for k in range(n_samples):\n",
        "    axes[0, 0].set_ylabel(\"Input\")\n",
        "    if k != 0:\n",
        "        axes[0, k].yaxis.set_visible(False)\n",
        "    axes[0, k].imshow(train_images[k, :, :, 0], cmap=\"gray\")\n",
        "\n",
        "    # Plot all output channels\n",
        "    for c in range(n_channels):\n",
        "        axes[c + 1, 0].set_ylabel(\"Output [ch. {}]\".format(c))\n",
        "        if k != 0:\n",
        "            axes[c, k].yaxis.set_visible(False)\n",
        "        axes[c + 1, k].imshow(q_train_images[k, :, :, c], cmap=\"gray\")\n",
        "\n",
        "plt.tight_layout()\n",
        "plt.show()"
      ]
    },
    {
      "cell_type": "code",
      "execution_count": null,
      "metadata": {
        "id": "S_pIY6Sim_uH"
      },
      "outputs": [],
      "source": [
        "def MyModel():\n",
        "    \"\"\"Initializes and returns a custom Keras model\n",
        "    which is ready to be trained.\"\"\"\n",
        "    model = keras.models.Sequential([\n",
        "        keras.layers.Conv2D(64,3,activation='relu',input_shape=(14,14,4)),     \n",
        "        keras.layers.MaxPooling2D((2,2),padding = \"same\"),                           \n",
        "        keras.layers.Flatten(),\n",
        "        #keras.layers.\n",
        "        keras.layers.Dense(10, activation=\"softmax\")\n",
        "    ])\n",
        "\n",
        "    model.compile(\n",
        "        optimizer='adam',\n",
        "        loss=\"sparse_categorical_crossentropy\",\n",
        "        metrics=[\"accuracy\"],\n",
        "    )\n",
        "    return model"
      ]
    },
    {
      "cell_type": "code",
      "source": [
        "def MyModel1():\n",
        "    \"\"\"Initializes and returns a custom Keras model\n",
        "    which is ready to be trained.\"\"\"\n",
        "    model = keras.models.Sequential([\n",
        "        #keras.layers.Conv2D(64,3,activation='softmax',input_shape=(14,14,4)),\n",
        "        keras.layers.Conv2D(64,(3,3),activation='relu',input_shape=(28,28,1)), \n",
        "        keras.layers.MaxPooling2D((2,2),padding = \"same\"),                            \n",
        "        keras.layers.Flatten(),\n",
        "        keras.layers.Dense(10, activation=\"softmax\")\n",
        "    ])\n",
        "\n",
        "    model.compile(\n",
        "        optimizer='adam',\n",
        "        loss=\"sparse_categorical_crossentropy\",\n",
        "        metrics=[\"accuracy\"],\n",
        "    )\n",
        "    return model"
      ],
      "metadata": {
        "id": "x4rHwUj07uGC"
      },
      "execution_count": null,
      "outputs": []
    },
    {
      "cell_type": "code",
      "execution_count": null,
      "metadata": {
        "colab": {
          "base_uri": "https://localhost:8080/"
        },
        "id": "xwYCHTjVnBAa",
        "outputId": "152ad0a0-93a6-42f0-b39e-e8c00766ed88"
      },
      "outputs": [
        {
          "output_type": "stream",
          "name": "stdout",
          "text": [
            "Epoch 1/30\n",
            "10/10 - 1s - loss: 2.5089 - accuracy: 0.0500 - val_loss: 2.0831 - val_accuracy: 0.2333 - 1s/epoch - 104ms/step\n",
            "Epoch 2/30\n",
            "10/10 - 0s - loss: 1.9065 - accuracy: 0.4250 - val_loss: 1.9722 - val_accuracy: 0.4333 - 72ms/epoch - 7ms/step\n",
            "Epoch 3/30\n",
            "10/10 - 0s - loss: 1.4726 - accuracy: 0.8000 - val_loss: 1.6799 - val_accuracy: 0.6000 - 71ms/epoch - 7ms/step\n",
            "Epoch 4/30\n",
            "10/10 - 0s - loss: 1.0858 - accuracy: 0.9500 - val_loss: 1.4395 - val_accuracy: 0.6667 - 67ms/epoch - 7ms/step\n",
            "Epoch 5/30\n",
            "10/10 - 0s - loss: 0.7310 - accuracy: 1.0000 - val_loss: 1.2978 - val_accuracy: 0.7333 - 60ms/epoch - 6ms/step\n",
            "Epoch 6/30\n",
            "10/10 - 0s - loss: 0.5096 - accuracy: 1.0000 - val_loss: 1.1854 - val_accuracy: 0.7333 - 71ms/epoch - 7ms/step\n",
            "Epoch 7/30\n",
            "10/10 - 0s - loss: 0.3249 - accuracy: 1.0000 - val_loss: 1.1158 - val_accuracy: 0.6667 - 75ms/epoch - 8ms/step\n",
            "Epoch 8/30\n",
            "10/10 - 0s - loss: 0.2370 - accuracy: 1.0000 - val_loss: 1.0770 - val_accuracy: 0.6667 - 75ms/epoch - 8ms/step\n",
            "Epoch 9/30\n",
            "10/10 - 0s - loss: 0.1503 - accuracy: 1.0000 - val_loss: 0.9130 - val_accuracy: 0.7667 - 74ms/epoch - 7ms/step\n",
            "Epoch 10/30\n",
            "10/10 - 0s - loss: 0.1139 - accuracy: 1.0000 - val_loss: 0.9312 - val_accuracy: 0.7333 - 71ms/epoch - 7ms/step\n",
            "Epoch 11/30\n",
            "10/10 - 0s - loss: 0.0840 - accuracy: 1.0000 - val_loss: 0.9618 - val_accuracy: 0.7333 - 63ms/epoch - 6ms/step\n",
            "Epoch 12/30\n",
            "10/10 - 0s - loss: 0.0665 - accuracy: 1.0000 - val_loss: 0.9555 - val_accuracy: 0.7333 - 75ms/epoch - 8ms/step\n",
            "Epoch 13/30\n",
            "10/10 - 0s - loss: 0.0539 - accuracy: 1.0000 - val_loss: 0.9307 - val_accuracy: 0.7333 - 62ms/epoch - 6ms/step\n",
            "Epoch 14/30\n",
            "10/10 - 0s - loss: 0.0453 - accuracy: 1.0000 - val_loss: 0.9199 - val_accuracy: 0.7333 - 59ms/epoch - 6ms/step\n",
            "Epoch 15/30\n",
            "10/10 - 0s - loss: 0.0384 - accuracy: 1.0000 - val_loss: 0.9102 - val_accuracy: 0.7333 - 62ms/epoch - 6ms/step\n",
            "Epoch 16/30\n",
            "10/10 - 0s - loss: 0.0337 - accuracy: 1.0000 - val_loss: 0.8956 - val_accuracy: 0.7333 - 64ms/epoch - 6ms/step\n",
            "Epoch 17/30\n",
            "10/10 - 0s - loss: 0.0293 - accuracy: 1.0000 - val_loss: 0.9183 - val_accuracy: 0.7333 - 57ms/epoch - 6ms/step\n",
            "Epoch 18/30\n",
            "10/10 - 0s - loss: 0.0256 - accuracy: 1.0000 - val_loss: 0.9135 - val_accuracy: 0.7333 - 56ms/epoch - 6ms/step\n",
            "Epoch 19/30\n",
            "10/10 - 0s - loss: 0.0229 - accuracy: 1.0000 - val_loss: 0.9042 - val_accuracy: 0.7333 - 67ms/epoch - 7ms/step\n",
            "Epoch 20/30\n",
            "10/10 - 0s - loss: 0.0206 - accuracy: 1.0000 - val_loss: 0.9062 - val_accuracy: 0.7333 - 74ms/epoch - 7ms/step\n",
            "Epoch 21/30\n",
            "10/10 - 0s - loss: 0.0185 - accuracy: 1.0000 - val_loss: 0.9109 - val_accuracy: 0.7333 - 69ms/epoch - 7ms/step\n",
            "Epoch 22/30\n",
            "10/10 - 0s - loss: 0.0167 - accuracy: 1.0000 - val_loss: 0.9073 - val_accuracy: 0.7333 - 61ms/epoch - 6ms/step\n",
            "Epoch 23/30\n",
            "10/10 - 0s - loss: 0.0154 - accuracy: 1.0000 - val_loss: 0.9039 - val_accuracy: 0.7333 - 59ms/epoch - 6ms/step\n",
            "Epoch 24/30\n",
            "10/10 - 0s - loss: 0.0141 - accuracy: 1.0000 - val_loss: 0.9111 - val_accuracy: 0.7333 - 70ms/epoch - 7ms/step\n",
            "Epoch 25/30\n",
            "10/10 - 0s - loss: 0.0129 - accuracy: 1.0000 - val_loss: 0.9122 - val_accuracy: 0.7333 - 68ms/epoch - 7ms/step\n",
            "Epoch 26/30\n",
            "10/10 - 0s - loss: 0.0120 - accuracy: 1.0000 - val_loss: 0.9243 - val_accuracy: 0.7333 - 74ms/epoch - 7ms/step\n",
            "Epoch 27/30\n",
            "10/10 - 0s - loss: 0.0111 - accuracy: 1.0000 - val_loss: 0.9142 - val_accuracy: 0.7333 - 58ms/epoch - 6ms/step\n",
            "Epoch 28/30\n",
            "10/10 - 0s - loss: 0.0102 - accuracy: 1.0000 - val_loss: 0.9196 - val_accuracy: 0.7333 - 65ms/epoch - 6ms/step\n",
            "Epoch 29/30\n",
            "10/10 - 0s - loss: 0.0096 - accuracy: 1.0000 - val_loss: 0.9155 - val_accuracy: 0.7333 - 70ms/epoch - 7ms/step\n",
            "Epoch 30/30\n",
            "10/10 - 0s - loss: 0.0089 - accuracy: 1.0000 - val_loss: 0.9112 - val_accuracy: 0.7333 - 70ms/epoch - 7ms/step\n"
          ]
        }
      ],
      "source": [
        "q_model = MyModel()\n",
        "\n",
        "q_history = q_model.fit(\n",
        "    q_train_images,\n",
        "    train_labels,\n",
        "    validation_data=(q_test_images, test_labels),\n",
        "    batch_size=4,\n",
        "    epochs=n_epochs,\n",
        "    verbose=2,\n",
        ")"
      ]
    },
    {
      "cell_type": "code",
      "execution_count": null,
      "metadata": {
        "colab": {
          "base_uri": "https://localhost:8080/"
        },
        "id": "VoBI8W_VnHnc",
        "outputId": "4cf89f01-9a6a-474c-df60-ffd31b37a505"
      },
      "outputs": [
        {
          "output_type": "stream",
          "name": "stdout",
          "text": [
            "Epoch 1/30\n",
            "10/10 - 1s - loss: 2.2848 - accuracy: 0.2000 - val_loss: 2.0452 - val_accuracy: 0.3333 - 618ms/epoch - 62ms/step\n",
            "Epoch 2/30\n",
            "10/10 - 0s - loss: 1.6813 - accuracy: 0.7500 - val_loss: 1.8150 - val_accuracy: 0.4333 - 86ms/epoch - 9ms/step\n",
            "Epoch 3/30\n",
            "10/10 - 0s - loss: 1.0996 - accuracy: 0.8500 - val_loss: 1.3916 - val_accuracy: 0.6333 - 101ms/epoch - 10ms/step\n",
            "Epoch 4/30\n",
            "10/10 - 0s - loss: 0.5918 - accuracy: 0.9250 - val_loss: 1.1572 - val_accuracy: 0.6333 - 88ms/epoch - 9ms/step\n",
            "Epoch 5/30\n",
            "10/10 - 0s - loss: 0.2608 - accuracy: 1.0000 - val_loss: 1.0688 - val_accuracy: 0.7000 - 86ms/epoch - 9ms/step\n",
            "Epoch 6/30\n",
            "10/10 - 0s - loss: 0.1323 - accuracy: 1.0000 - val_loss: 1.1347 - val_accuracy: 0.7000 - 91ms/epoch - 9ms/step\n",
            "Epoch 7/30\n",
            "10/10 - 0s - loss: 0.0665 - accuracy: 1.0000 - val_loss: 1.1546 - val_accuracy: 0.6667 - 92ms/epoch - 9ms/step\n",
            "Epoch 8/30\n",
            "10/10 - 0s - loss: 0.0461 - accuracy: 1.0000 - val_loss: 1.2269 - val_accuracy: 0.6667 - 100ms/epoch - 10ms/step\n",
            "Epoch 9/30\n",
            "10/10 - 0s - loss: 0.0277 - accuracy: 1.0000 - val_loss: 1.1375 - val_accuracy: 0.6667 - 100ms/epoch - 10ms/step\n",
            "Epoch 10/30\n",
            "10/10 - 0s - loss: 0.0219 - accuracy: 1.0000 - val_loss: 1.1543 - val_accuracy: 0.7333 - 88ms/epoch - 9ms/step\n",
            "Epoch 11/30\n",
            "10/10 - 0s - loss: 0.0172 - accuracy: 1.0000 - val_loss: 1.1981 - val_accuracy: 0.7000 - 98ms/epoch - 10ms/step\n",
            "Epoch 12/30\n",
            "10/10 - 0s - loss: 0.0138 - accuracy: 1.0000 - val_loss: 1.2373 - val_accuracy: 0.6667 - 98ms/epoch - 10ms/step\n",
            "Epoch 13/30\n",
            "10/10 - 0s - loss: 0.0118 - accuracy: 1.0000 - val_loss: 1.2692 - val_accuracy: 0.7000 - 99ms/epoch - 10ms/step\n",
            "Epoch 14/30\n",
            "10/10 - 0s - loss: 0.0103 - accuracy: 1.0000 - val_loss: 1.2756 - val_accuracy: 0.7000 - 89ms/epoch - 9ms/step\n",
            "Epoch 15/30\n",
            "10/10 - 0s - loss: 0.0089 - accuracy: 1.0000 - val_loss: 1.2773 - val_accuracy: 0.7000 - 101ms/epoch - 10ms/step\n",
            "Epoch 16/30\n",
            "10/10 - 0s - loss: 0.0079 - accuracy: 1.0000 - val_loss: 1.2777 - val_accuracy: 0.7000 - 92ms/epoch - 9ms/step\n",
            "Epoch 17/30\n",
            "10/10 - 0s - loss: 0.0070 - accuracy: 1.0000 - val_loss: 1.2986 - val_accuracy: 0.7000 - 102ms/epoch - 10ms/step\n",
            "Epoch 18/30\n",
            "10/10 - 0s - loss: 0.0063 - accuracy: 1.0000 - val_loss: 1.3169 - val_accuracy: 0.7000 - 99ms/epoch - 10ms/step\n",
            "Epoch 19/30\n",
            "10/10 - 0s - loss: 0.0057 - accuracy: 1.0000 - val_loss: 1.3164 - val_accuracy: 0.7000 - 96ms/epoch - 10ms/step\n",
            "Epoch 20/30\n",
            "10/10 - 0s - loss: 0.0053 - accuracy: 1.0000 - val_loss: 1.3272 - val_accuracy: 0.7000 - 230ms/epoch - 23ms/step\n",
            "Epoch 21/30\n",
            "10/10 - 0s - loss: 0.0048 - accuracy: 1.0000 - val_loss: 1.3405 - val_accuracy: 0.7000 - 113ms/epoch - 11ms/step\n",
            "Epoch 22/30\n",
            "10/10 - 0s - loss: 0.0043 - accuracy: 1.0000 - val_loss: 1.3477 - val_accuracy: 0.7000 - 102ms/epoch - 10ms/step\n",
            "Epoch 23/30\n",
            "10/10 - 0s - loss: 0.0040 - accuracy: 1.0000 - val_loss: 1.3527 - val_accuracy: 0.7000 - 93ms/epoch - 9ms/step\n",
            "Epoch 24/30\n",
            "10/10 - 0s - loss: 0.0037 - accuracy: 1.0000 - val_loss: 1.3634 - val_accuracy: 0.7000 - 96ms/epoch - 10ms/step\n",
            "Epoch 25/30\n",
            "10/10 - 0s - loss: 0.0035 - accuracy: 1.0000 - val_loss: 1.3678 - val_accuracy: 0.7000 - 89ms/epoch - 9ms/step\n",
            "Epoch 26/30\n",
            "10/10 - 0s - loss: 0.0033 - accuracy: 1.0000 - val_loss: 1.3946 - val_accuracy: 0.7000 - 152ms/epoch - 15ms/step\n",
            "Epoch 27/30\n",
            "10/10 - 0s - loss: 0.0030 - accuracy: 1.0000 - val_loss: 1.3942 - val_accuracy: 0.7000 - 185ms/epoch - 18ms/step\n",
            "Epoch 28/30\n",
            "10/10 - 0s - loss: 0.0028 - accuracy: 1.0000 - val_loss: 1.4033 - val_accuracy: 0.7000 - 89ms/epoch - 9ms/step\n",
            "Epoch 29/30\n",
            "10/10 - 0s - loss: 0.0026 - accuracy: 1.0000 - val_loss: 1.4033 - val_accuracy: 0.7000 - 88ms/epoch - 9ms/step\n",
            "Epoch 30/30\n",
            "10/10 - 0s - loss: 0.0025 - accuracy: 1.0000 - val_loss: 1.4030 - val_accuracy: 0.7000 - 88ms/epoch - 9ms/step\n"
          ]
        }
      ],
      "source": [
        "c_model = MyModel1()\n",
        "\n",
        "c_history = c_model.fit(\n",
        "    train_images,\n",
        "    train_labels,\n",
        "    validation_data=(test_images, test_labels),\n",
        "    batch_size=4,\n",
        "    epochs=n_epochs,\n",
        "    verbose=2,\n",
        ")"
      ]
    },
    {
      "cell_type": "code",
      "execution_count": null,
      "metadata": {
        "colab": {
          "base_uri": "https://localhost:8080/",
          "height": 657
        },
        "id": "ab8M8rf2nJ5y",
        "outputId": "e569f6d8-b92b-45de-bb02-d70c70f1c996"
      },
      "outputs": [
        {
          "output_type": "display_data",
          "data": {
            "text/plain": [
              "<Figure size 432x648 with 2 Axes>"
            ],
            "image/png": "[encoded data removed]"
          },
          "metadata": {}
        }
      ],
      "source": [
        "import matplotlib.pyplot as plt\n",
        "\n",
        "plt.style.use(\"seaborn\")\n",
        "fig, (ax1, ax2) = plt.subplots(2, 1, figsize=(6, 9))\n",
        "\n",
        "ax1.plot(q_history.history[\"val_accuracy\"], \"-ob\", label=\"With quantum layer\")\n",
        "ax1.plot(c_history.history[\"val_accuracy\"], \"-og\", label=\"Without quantum layer\")\n",
        "ax1.set_ylabel(\"Accuracy\")\n",
        "ax1.set_ylim([0, 1])\n",
        "ax1.set_xlabel(\"Epoch\")\n",
        "ax1.legend()\n",
        "\n",
        "ax2.plot(q_history.history[\"val_loss\"], \"-ob\", label=\"With quantum layer\")\n",
        "ax2.plot(c_history.history[\"val_loss\"], \"-og\", label=\"Without quantum layer\")\n",
        "ax2.set_ylabel(\"Loss\")\n",
        "ax2.set_ylim(top=2.5)\n",
        "ax2.set_xlabel(\"Epoch\")\n",
        "ax2.legend()\n",
        "plt.tight_layout()\n",
        "plt.show()"
      ]
    },
    {
      "cell_type": "code",
      "source": [
        ""
      ],
      "metadata": {
        "id": "u9gmjxMO-rFh"
      },
      "execution_count": null,
      "outputs": []
    }
  ],
  "metadata": {
    "accelerator": "TPU",
    "colab": {
      "name": "QCNN.ipynb",
      "provenance": [],
      "collapsed_sections": []
    },
    "kernelspec": {
      "display_name": "Python 3",
      "name": "python3"
    },
    "language_info": {
      "name": "python"
    }
  },
  "nbformat": 4,
  "nbformat_minor": 0
}